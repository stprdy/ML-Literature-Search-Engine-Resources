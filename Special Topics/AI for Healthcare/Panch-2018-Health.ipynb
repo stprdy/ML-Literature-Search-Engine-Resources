{
 "cells": [
  {
   "cell_type": "code",
   "execution_count": 1,
   "id": "68339e7e-9fc6-4dfe-a709-970845781929",
   "metadata": {
    "tags": []
   },
   "outputs": [
    {
     "name": "stdout",
     "output_type": "stream",
     "text": [
      "Requirement already satisfied: beautifulsoup4 in c:\\users\\steph\\anaconda3\\lib\\site-packages (4.12.2)\n",
      "Requirement already satisfied: requests in c:\\users\\steph\\anaconda3\\lib\\site-packages (2.31.0)\n",
      "Requirement already satisfied: soupsieve>1.2 in c:\\users\\steph\\anaconda3\\lib\\site-packages (from beautifulsoup4) (2.4)\n",
      "Requirement already satisfied: charset-normalizer<4,>=2 in c:\\users\\steph\\anaconda3\\lib\\site-packages (from requests) (2.0.4)\n",
      "Requirement already satisfied: idna<4,>=2.5 in c:\\users\\steph\\anaconda3\\lib\\site-packages (from requests) (3.4)\n",
      "Requirement already satisfied: urllib3<3,>=1.21.1 in c:\\users\\steph\\anaconda3\\lib\\site-packages (from requests) (1.26.16)\n",
      "Requirement already satisfied: certifi>=2017.4.17 in c:\\users\\steph\\anaconda3\\lib\\site-packages (from requests) (2024.2.2)\n",
      "Note: you may need to restart the kernel to use updated packages.\n"
     ]
    }
   ],
   "source": [
    "pip install beautifulsoup4 requests"
   ]
  },
  {
   "cell_type": "code",
   "execution_count": 9,
   "id": "b44bcf89-0beb-4723-830a-eb56226db1ce",
   "metadata": {
    "tags": []
   },
   "outputs": [],
   "source": [
    "import hashlib\n",
    "from bs4 import BeautifulSoup\n",
    "import urllib.request\n",
    "from datetime import datetime\n",
    "\n",
    "# Function to generate a unique filename based on the URL's hash\n",
    "def generate_filename(url):\n",
    "    # Create a hash of the URL\n",
    "    url_hash = hashlib.md5(url.encode()).hexdigest()\n",
    "    return f\"output_{url_hash}.txt\"\n",
    "\n",
    "# Replace 'your_url_here' with each URL you are scraping\n",
    "url = 'https://www.ncbi.nlm.nih.gov/pmc/articles/PMC6199467/'\n",
    "\n",
    "filename = generate_filename(url)  # Generate a unique filename for this URL\n",
    "\n",
    "req = urllib.request.Request(url, headers={'User-Agent': 'Mozilla/5.0'})\n",
    "\n",
    "try:\n",
    "    response = urllib.request.urlopen(req)\n",
    "    webpage = response.read()\n",
    "    soup = BeautifulSoup(webpage, 'html.parser')\n",
    "    article_text = soup.get_text(separator=' ', strip=True)\n",
    "    # Assuming you're using IPython's 'capture' magic to capture output\n",
    "    cap = article_text  # Simulating the capture of 'print' output\n",
    "except urllib.error.HTTPError as e:\n",
    "    cap = f'HTTP Error: {e.code} {e.reason}'\n",
    "except urllib.error.URLError as e:\n",
    "    cap = f'URL Error: {e.reason}'\n",
    "\n",
    "# Save the captured output to a text file with the unique filename\n",
    "with open(filename, 'w', encoding='utf-8') as file:\n",
    "    file.write(cap)\n",
    "\n",
    "\n"
   ]
  },
  {
   "cell_type": "code",
   "execution_count": null,
   "id": "1b29d42c-d7ea-4c3a-ac32-06edc4e70445",
   "metadata": {},
   "outputs": [],
   "source": []
  }
 ],
 "metadata": {
  "kernelspec": {
   "display_name": "Python 3 (ipykernel)",
   "language": "python",
   "name": "python3"
  },
  "language_info": {
   "codemirror_mode": {
    "name": "ipython",
    "version": 3
   },
   "file_extension": ".py",
   "mimetype": "text/x-python",
   "name": "python",
   "nbconvert_exporter": "python",
   "pygments_lexer": "ipython3",
   "version": "3.11.5"
  }
 },
 "nbformat": 4,
 "nbformat_minor": 5
}
